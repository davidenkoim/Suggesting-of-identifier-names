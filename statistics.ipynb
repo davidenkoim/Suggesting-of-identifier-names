{
 "cells": [
  {
   "cell_type": "code",
   "execution_count": 1,
   "metadata": {},
   "outputs": [],
   "source": [
    "import json\n",
    "import numpy as np\n",
    "from itertools import chain\n",
    "import os.path"
   ]
  },
  {
   "cell_type": "code",
   "execution_count": 2,
   "metadata": {},
   "outputs": [],
   "source": [
    "def read(file):\n",
    "    with open(file, 'r', encoding='utf-8') as f:\n",
    "        return json.loads(f.read())"
   ]
  },
  {
   "cell_type": "markdown",
   "metadata": {},
   "source": [
    "Name of the project:"
   ]
  },
  {
   "cell_type": "code",
   "execution_count": 3,
   "metadata": {},
   "outputs": [],
   "source": [
    "projectNames = ['elasticsearch-master',\n",
    "                'cassandra-trunk',\n",
    "                'xmlgraphics-batik-trunk',\n",
    "                'ant-master']"
   ]
  },
  {
   "cell_type": "code",
   "execution_count": 4,
   "metadata": {},
   "outputs": [],
   "source": [
    "def get_file_stats(lexed, predictions, n=1):\n",
    "    '''\n",
    "        n -- number of predictions by which the true prediction is defined.\n",
    "    '''\n",
    "    assert lexed['left'] == predictions['left'], 'Predictions to wrong file!'\n",
    "    lexs, preds = lexed['right'], predictions['right'] \n",
    "    trues, total, mrr = 0., 0, 0.\n",
    "    for l, ps in zip(chain(*lexs), chain(*preds)):\n",
    "        if len(ps) != 0:\n",
    "            trues += 1 if l in ps[:n] else 0\n",
    "            total += 1\n",
    "            mrr += 1/(1 + ps.index(l)) if l in ps else 0\n",
    "    return trues, total, mrr"
   ]
  },
  {
   "cell_type": "code",
   "execution_count": 5,
   "metadata": {},
   "outputs": [],
   "source": [
    "def get_average_stats(lexed, predictions, top_n=1, bounds=None):\n",
    "    '''\n",
    "        n -- number of predictions by which the true prediction is defined.\n",
    "        bounds=(l,r) -- bounds in which total count of identifiers in a file has to lie.\n",
    "    '''\n",
    "    trues, total, mrr = 0, 0, 0\n",
    "    for lexs, preds in zip(lexed, predictions):\n",
    "        tr, tot, m = get_file_stats(lexs, preds, n=top_n)\n",
    "        if bounds is None or bounds[0] <= tot <= bounds[1]:\n",
    "            trues += tr\n",
    "            total += tot\n",
    "            mrr += m\n",
    "    print(f'Count of identifiers: {total}')\n",
    "    print(f'Accuracy: {trues/total:.4f}')\n",
    "    print(f'MRR: {mrr/total:.4f}')"
   ]
  },
  {
   "cell_type": "code",
   "execution_count": 6,
   "metadata": {},
   "outputs": [],
   "source": [
    "def get_stats_for_files(lexed, predictions, top_n=1, bounds=None, all=False):\n",
    "    '''\n",
    "        Shows state for each file (10 files in a batch).\n",
    "        \n",
    "        n -- number of predictions by which the true prediction is defined.\n",
    "        bounds=(l,r) -- bounds in which total count of identifiers in a file has to lie.\n",
    "    '''\n",
    "    print(f'File id |  Count  |Accuracy {top_n}|  MRR  |')\n",
    "    print('--------|---------|----------|-------|')\n",
    "    k = 0\n",
    "    for i, (lexs, preds) in enumerate(zip(lexed, predictions)):\n",
    "        trues, total, mrr = get_file_stats(lexs, preds, n=top_n)\n",
    "        if bounds is None or bounds[0] <= total <= bounds[1]:\n",
    "            k += 1\n",
    "            if total == 0:\n",
    "                print(f'{i: <8}|0        |-         |-      |')\n",
    "            else:\n",
    "                print(f'{i: <8}|{total: <9}|{(trues/total): <10.4f}|{mrr/total: <7.4f}|')\n",
    "            if not all and k % 10 == 0 and input('Do you want more?[y]/n') in {'n', 'No', 'no', 'exit'}:\n",
    "                break"
   ]
  },
  {
   "cell_type": "code",
   "execution_count": 7,
   "metadata": {},
   "outputs": [],
   "source": [
    "def get_average_project_stats(projectNames, top_n=1, bounds=None):\n",
    "    for projectName in projectNames:\n",
    "        lexed = read(\"cash/\" + projectName + \"/lexed.json\")\n",
    "        predictions = read(\"cash/\" + projectName + \"/predictions.json\")\n",
    "        print(f'{projectName:_^30}')\n",
    "        get_average_stats(lexed, predictions, top_n=top_n, bounds=bounds)"
   ]
  },
  {
   "cell_type": "code",
   "execution_count": 8,
   "metadata": {},
   "outputs": [
    {
     "name": "stdout",
     "output_type": "stream",
     "text": [
      "_____elasticsearch-master_____\n",
      "Count of identifiers: 2830079\n",
      "Accuracy: 0.4591\n",
      "MRR: 0.5291\n",
      "_______cassandra-trunk________\n",
      "Count of identifiers: 516216\n",
      "Accuracy: 0.3181\n",
      "MRR: 0.3746\n",
      "___xmlgraphics-batik-trunk____\n",
      "Count of identifiers: 180824\n",
      "Accuracy: 0.3045\n",
      "MRR: 0.3515\n",
      "__________ant-master__________\n",
      "Count of identifiers: 145884\n",
      "Accuracy: 0.3134\n",
      "MRR: 0.3612\n"
     ]
    }
   ],
   "source": [
    "get_average_project_stats(projectNames, top_n=1, bounds=None)"
   ]
  },
  {
   "cell_type": "code",
   "execution_count": 12,
   "metadata": {},
   "outputs": [],
   "source": [
    "projectName = 'elasticsearch-master'\n",
    "# projectName = 'cassandra-trunk'\n",
    "# projectName = 'ant-master'\n",
    "# projectName = 'xmlgraphics-batik-trunk'"
   ]
  },
  {
   "cell_type": "code",
   "execution_count": 9,
   "metadata": {},
   "outputs": [],
   "source": [
    "vocabulary = read(\"cash/\" + projectName + \"/vocabulary.json\")\n",
    "lexed = read(\"cash/\" + projectName + \"/lexed.json\")\n",
    "identifiers = set(read(\"cash/\" + projectName + \"/identifiers.json\"))\n",
    "predictions = read(\"cash/\" + projectName + \"/predictions.json\")"
   ]
  },
  {
   "cell_type": "code",
   "execution_count": 10,
   "metadata": {},
   "outputs": [
    {
     "name": "stdout",
     "output_type": "stream",
     "text": [
      "File id |  Count  |Accuracy 1|  MRR  |\n",
      "--------|---------|----------|-------|\n",
      "0       |112      |0.5804    |0.6197 |\n",
      "1       |55       |0.5636    |0.5997 |\n",
      "2       |164      |0.5366    |0.6047 |\n",
      "3       |126      |0.6429    |0.7420 |\n",
      "4       |45       |0.7333    |0.7630 |\n",
      "5       |43       |0.7907    |0.8333 |\n",
      "6       |110      |0.3636    |0.4267 |\n",
      "7       |22       |0.3636    |0.4867 |\n",
      "8       |7        |0.2857    |0.2857 |\n",
      "9       |344      |0.1919    |0.2463 |\n"
     ]
    },
    {
     "name": "stdin",
     "output_type": "stream",
     "text": [
      "Do you want more?[y]/n n\n"
     ]
    }
   ],
   "source": [
    "get_stats_for_files(lexed, predictions, bounds=None, top_n=1)"
   ]
  },
  {
   "cell_type": "code",
   "execution_count": 11,
   "metadata": {},
   "outputs": [
    {
     "data": {
      "text/plain": [
       "(151038, 50721)"
      ]
     },
     "execution_count": 11,
     "metadata": {},
     "output_type": "execute_result"
    }
   ],
   "source": [
    "len(vocabulary), len(identifiers)"
   ]
  }
 ],
 "metadata": {
  "kernelspec": {
   "display_name": "Python 3",
   "language": "python",
   "name": "python3"
  },
  "language_info": {
   "codemirror_mode": {
    "name": "ipython",
    "version": 3
   },
   "file_extension": ".py",
   "mimetype": "text/x-python",
   "name": "python",
   "nbconvert_exporter": "python",
   "pygments_lexer": "ipython3",
   "version": "3.7.6"
  }
 },
 "nbformat": 4,
 "nbformat_minor": 4
}
